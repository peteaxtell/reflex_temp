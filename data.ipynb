{
 "cells": [
  {
   "cell_type": "code",
   "execution_count": null,
   "metadata": {},
   "outputs": [],
   "source": [
    "from httpx import Client\n",
    "import polars as pl\n",
    "from concurrent.futures import ThreadPoolExecutor"
   ]
  },
  {
   "cell_type": "code",
   "execution_count": null,
   "metadata": {},
   "outputs": [],
   "source": [
    "client = Client(base_url=\"https://fantasy.premierleague.com/api\", event_hooks={\"response\": [lambda x: x.raise_for_status()]})"
   ]
  },
  {
   "cell_type": "code",
   "execution_count": null,
   "metadata": {},
   "outputs": [],
   "source": [
    "def get_entry_picks(entry_id: int, gameweek_id: int) -> pl.DataFrame:\n",
    "    \"\"\"\n",
    "    Returns the players picked for a gameweek\n",
    "    \"\"\"\n",
    "    \n",
    "    df = (pl.DataFrame(client.get(f\"entry/{entry_id}/event/{gameweek_id}/picks/\").json()[\"picks\"])\n",
    "          .with_columns(entry_id=entry_id)\n",
    "          .rename({\"element\": \"player_id\"})\n",
    "          )\n",
    "\n",
    "    return df\n",
    "\n",
    "def get_entry_history(entry_id: int) -> pl.DataFrame:\n",
    "    \"\"\"\n",
    "    Returns the points by week for the entry\n",
    "    \"\"\"\n",
    "    \n",
    "    df = (pl.DataFrame(client.get(f\"entry/{entry_id}/history/\").json()[\"current\"])\n",
    "          .with_columns(entry_id=entry_id)\n",
    "          .rename({\"event\": \"gameweek_id\"})\n",
    "          .select([\"gameweek_id\", \"entry_id\", \"total_points\"])\n",
    "          )\n",
    "\n",
    "    return df"
   ]
  },
  {
   "cell_type": "code",
   "execution_count": null,
   "metadata": {},
   "outputs": [],
   "source": [
    "bootstrap_data = client.get(\"bootstrap-static/\").json()"
   ]
  },
  {
   "cell_type": "markdown",
   "metadata": {},
   "source": [
    "##### player/team static data"
   ]
  },
  {
   "cell_type": "code",
   "execution_count": null,
   "metadata": {},
   "outputs": [],
   "source": [
    "gameweeks_df = (pl.DataFrame(bootstrap_data[\"events\"])\n",
    "                .rename({\"id\": \"gameweek_id\"})\n",
    "                .select([\"gameweek_id\", \"deadline_time\", \"is_current\"])\n",
    "                )\n",
    "\n",
    "gameweek_id = gameweeks_df.filter(pl.col(\"is_current\")).row(0, named=True)[\"gameweek_id\"]\n",
    "\n",
    "players_df = (pl.json_normalize(bootstrap_data[\"elements\"])\n",
    "              .select([\"id\", \"web_name\", \"team\", \"element_type\"])\n",
    "              .rename({\"id\": \"player_id\", \"team\": \"team_id\", \"element_type\": \"position_id\"})\n",
    "              )\n",
    "\n",
    "positions_df = (pl.json_normalize(bootstrap_data[\"element_types\"])\n",
    "                .select([\"id\", \"singular_name\"])\n",
    "                .rename({\"id\": \"position_id\", \"singular_name\": \"position_name\"})\n",
    "                )\n",
    "\n",
    "teams_df = (pl.json_normalize(bootstrap_data[\"teams\"])\n",
    "            .select([\"id\", \"name\"])\n",
    "            .rename({\"id\": \"team_id\", \"name\": \"team_name\"})\n",
    "            )\n",
    "\n",
    "players_df = players_df.join(teams_df, on=\"team_id\", how=\"left\").join(positions_df, on=\"position_id\")"
   ]
  },
  {
   "cell_type": "markdown",
   "metadata": {},
   "source": [
    "##### league entry data"
   ]
  },
  {
   "cell_type": "code",
   "execution_count": null,
   "metadata": {},
   "outputs": [],
   "source": [
    "league_df = (pl.DataFrame(client.get(\"leagues-classic/737576/standings/\").json()[\"standings\"][\"results\"])\n",
    "             .rename({\"entry\": \"entry_id\", \"player_name\": \"manager_name\"})\n",
    "             .select([\"entry_id\", \"manager_name\", \"entry_name\", \"total\"])\n",
    "             .with_columns(pl.col(\"entry_id\").cast(pl.Int32))\n",
    "             )\n",
    "\n",
    "# get current gameweek picks for each entry\n",
    "with ThreadPoolExecutor() as executor:\n",
    "    picks = list(executor.map(lambda entry_id: get_entry_picks(\n",
    "        entry_id, gameweek_id), league_df[\"entry_id\"].to_list()))\n",
    "    \n",
    "# get weekly points for each entry\n",
    "with ThreadPoolExecutor() as executor:\n",
    "    history = list(executor.map(lambda entry_id: get_entry_history(entry_id), league_df[\"entry_id\"].to_list()))\n",
    "\n",
    "entry_picks_df = (pl.concat(picks)\n",
    "                  .join(players_df, on=\"player_id\")\n",
    "                  .join(league_df, on=\"entry_id\")\n",
    "                  .select([\"entry_id\", \"manager_name\", \"web_name\", \"team_name\", \"position_name\", \"player_id\", \"multiplier\", \"is_captain\", \"position\"])\n",
    "                  )\n",
    "\n",
    "history = (pl.concat(history)\n",
    "                  .join(league_df, on=\"entry_id\")\n",
    "                  .select([\"gameweek_id\", \"entry_id\", \"manager_name\", \"total_points\"])\n",
    "                  )"
   ]
  },
  {
   "cell_type": "code",
   "execution_count": null,
   "metadata": {},
   "outputs": [],
   "source": [
    "history.pivot(values=\"total_points\", on=\"gameweek_id\", aggregate_function=\"first\").sort(\"manager_name\")"
   ]
  }
 ],
 "metadata": {
  "kernelspec": {
   "display_name": ".venv",
   "language": "python",
   "name": "python3"
  },
  "language_info": {
   "codemirror_mode": {
    "name": "ipython",
    "version": 3
   },
   "file_extension": ".py",
   "mimetype": "text/x-python",
   "name": "python",
   "nbconvert_exporter": "python",
   "pygments_lexer": "ipython3",
   "version": "3.13.0"
  }
 },
 "nbformat": 4,
 "nbformat_minor": 2
}
